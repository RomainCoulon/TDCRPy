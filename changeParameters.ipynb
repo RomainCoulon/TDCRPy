{
 "cells": [
  {
   "cell_type": "code",
   "execution_count": 1,
   "id": "cd98566c-0bbf-433f-8158-787f766d7cba",
   "metadata": {},
   "outputs": [],
   "source": [
    "# modify the parameters of the model"
   ]
  },
  {
   "cell_type": "code",
   "execution_count": 2,
   "id": "9d689c45-536a-4dd9-8273-162f197e2826",
   "metadata": {},
   "outputs": [
    {
     "name": "stdout",
     "output_type": "stream",
     "text": [
      "Defaulting to user installation because normal site-packages is not writeable\n",
      "Collecting TDCRPy\n",
      "  Using cached TDCRPy-1.12.4-py3-none-any.whl.metadata (15 kB)\n",
      "Requirement already satisfied: numpy in c:\\programdata\\anaconda3\\lib\\site-packages (from TDCRPy) (1.26.4)\n",
      "Requirement already satisfied: tqdm in c:\\programdata\\anaconda3\\lib\\site-packages (from TDCRPy) (4.65.0)\n",
      "Requirement already satisfied: setuptools in c:\\programdata\\anaconda3\\lib\\site-packages (from TDCRPy) (68.2.2)\n",
      "Requirement already satisfied: scipy in c:\\programdata\\anaconda3\\lib\\site-packages (from TDCRPy) (1.11.4)\n",
      "Requirement already satisfied: configparser in c:\\users\\romain.coulon\\appdata\\roaming\\python\\python311\\site-packages (from TDCRPy) (6.0.1)\n",
      "Requirement already satisfied: importlib.resources in c:\\users\\romain.coulon\\appdata\\roaming\\python\\python311\\site-packages (from TDCRPy) (6.4.0)\n",
      "Requirement already satisfied: matplotlib in c:\\programdata\\anaconda3\\lib\\site-packages (from TDCRPy) (3.8.0)\n",
      "Requirement already satisfied: contourpy>=1.0.1 in c:\\programdata\\anaconda3\\lib\\site-packages (from matplotlib->TDCRPy) (1.2.0)\n",
      "Requirement already satisfied: cycler>=0.10 in c:\\programdata\\anaconda3\\lib\\site-packages (from matplotlib->TDCRPy) (0.11.0)\n",
      "Requirement already satisfied: fonttools>=4.22.0 in c:\\programdata\\anaconda3\\lib\\site-packages (from matplotlib->TDCRPy) (4.25.0)\n",
      "Requirement already satisfied: kiwisolver>=1.0.1 in c:\\programdata\\anaconda3\\lib\\site-packages (from matplotlib->TDCRPy) (1.4.4)\n",
      "Requirement already satisfied: packaging>=20.0 in c:\\programdata\\anaconda3\\lib\\site-packages (from matplotlib->TDCRPy) (23.1)\n",
      "Requirement already satisfied: pillow>=6.2.0 in c:\\programdata\\anaconda3\\lib\\site-packages (from matplotlib->TDCRPy) (10.2.0)\n",
      "Requirement already satisfied: pyparsing>=2.3.1 in c:\\programdata\\anaconda3\\lib\\site-packages (from matplotlib->TDCRPy) (3.0.9)\n",
      "Requirement already satisfied: python-dateutil>=2.7 in c:\\programdata\\anaconda3\\lib\\site-packages (from matplotlib->TDCRPy) (2.8.2)\n",
      "Requirement already satisfied: colorama in c:\\programdata\\anaconda3\\lib\\site-packages (from tqdm->TDCRPy) (0.4.6)\n",
      "Requirement already satisfied: six>=1.5 in c:\\programdata\\anaconda3\\lib\\site-packages (from python-dateutil>=2.7->matplotlib->TDCRPy) (1.16.0)\n",
      "Using cached TDCRPy-1.12.4-py3-none-any.whl (24.5 MB)\n",
      "Installing collected packages: TDCRPy\n",
      "Successfully installed TDCRPy-1.12.4\n",
      "Note: you may need to restart the kernel to use updated packages.\n"
     ]
    },
    {
     "name": "stderr",
     "output_type": "stream",
     "text": [
      "WARNING: Ignoring invalid distribution ~dcrpy (C:\\Users\\romain.coulon\\AppData\\Roaming\\Python\\Python311\\site-packages)\n",
      "WARNING: Ignoring invalid distribution ~dcrpy (C:\\Users\\romain.coulon\\AppData\\Roaming\\Python\\Python311\\site-packages)\n",
      "WARNING: Ignoring invalid distribution ~dcrpy (C:\\Users\\romain.coulon\\AppData\\Roaming\\Python\\Python311\\site-packages)\n"
     ]
    }
   ],
   "source": [
    "pip install TDCRPy --upgrade"
   ]
  },
  {
   "cell_type": "code",
   "execution_count": 3,
   "id": "67d250a2-6bb3-4da2-8edb-d859b25932df",
   "metadata": {},
   "outputs": [],
   "source": [
    "import tdcrpy as td"
   ]
  },
  {
   "cell_type": "markdown",
   "id": "6f374ffa-96f9-430c-bb64-27e4c03754e5",
   "metadata": {},
   "source": [
    "## Read the parameters"
   ]
  },
  {
   "cell_type": "code",
   "execution_count": 4,
   "id": "6c11c882-1b03-4d83-8459-0fc6c31d5ab4",
   "metadata": {},
   "outputs": [
    {
     "name": "stdout",
     "output_type": "stream",
     "text": [
      "(1000, 1000, 0.96, 5.2, 11.04, 5, 100.0, 1.5, 2.0, 0.1, 50)\n"
     ]
    }
   ],
   "source": [
    "print(td.TDCR_model_lib.readParameters())"
   ]
  },
  {
   "cell_type": "markdown",
   "id": "d44e82dd-d3d2-4d30-bff4-ec876163417e",
   "metadata": {},
   "source": [
    "### Change energy binning the quenching function of electrons "
   ]
  },
  {
   "cell_type": "code",
   "execution_count": 7,
   "id": "ebdbee44-bbf4-43a3-89a7-232fd4ec5958",
   "metadata": {},
   "outputs": [
    {
     "name": "stdout",
     "output_type": "stream",
     "text": [
      "\n",
      "New configuration:\n",
      "number of integration bins for electrons = 100\n",
      "number of integration bins for alpha = 1000\n",
      "density = 0.96 g/cm3\n",
      "Z = 5.2\n",
      "A = 11.04\n",
      "depth of spline interp. = 5\n",
      "energy above which interp. in implemented (for alpha) = 100.0 keV\n",
      "energy above which interp. in implemented (for electron) = 1.5 keV\n",
      "diameter of micelle = 2.0 nm\n",
      "acqueous fraction = 0.1\n"
     ]
    },
    {
     "data": {
      "text/plain": [
       "(1000, 1000, 0.96, 5.2, 11.04, 5, 100.0, 1.5, 2.0, 0.1, 50)"
      ]
     },
     "execution_count": 7,
     "metadata": {},
     "output_type": "execute_result"
    }
   ],
   "source": [
    "td.TDCR_model_lib.modifynE_electron(100)\n",
    "print(\"New configuration:\")\n",
    "td.TDCR_model_lib.readParameters(disp=True)\n",
    "# back to the default value\n",
    "td.TDCR_model_lib.modifynE_electron(1000)"
   ]
  },
  {
   "cell_type": "code",
   "execution_count": null,
   "id": "9a95e7d5-fa39-41a7-8640-43576f44fbba",
   "metadata": {},
   "outputs": [],
   "source": [
    "### Change energy binning the quenching function of alpha particles"
   ]
  },
  {
   "cell_type": "code",
   "execution_count": 8,
   "id": "ab4246bf-69ac-4e31-816a-33af7785c460",
   "metadata": {},
   "outputs": [
    {
     "name": "stdout",
     "output_type": "stream",
     "text": [
      "\n",
      "New configuration:\n",
      "number of integration bins for electrons = 1000\n",
      "number of integration bins for alpha = 100\n",
      "density = 0.96 g/cm3\n",
      "Z = 5.2\n",
      "A = 11.04\n",
      "depth of spline interp. = 5\n",
      "energy above which interp. in implemented (for alpha) = 100.0 keV\n",
      "energy above which interp. in implemented (for electron) = 1.5 keV\n",
      "diameter of micelle = 2.0 nm\n",
      "acqueous fraction = 0.1\n"
     ]
    }
   ],
   "source": [
    "td.TDCR_model_lib.modifynE_alpha(100)\n",
    "print(\"New configuration:\")\n",
    "td.TDCR_model_lib.readParameters(disp=True)\n",
    "# back to the default value\n",
    "td.TDCR_model_lib.modifynE_alpha(1000)"
   ]
  },
  {
   "cell_type": "code",
   "execution_count": null,
   "id": "f1e77cea-4c50-4592-bfdb-411bf3448697",
   "metadata": {},
   "outputs": [],
   "source": [
    "### Change the density (in g/cm3) of the LS source"
   ]
  },
  {
   "cell_type": "code",
   "execution_count": 9,
   "id": "85b06568-490e-4565-a0fc-b6ea4943ecca",
   "metadata": {},
   "outputs": [
    {
     "name": "stdout",
     "output_type": "stream",
     "text": [
      "New configuration:\n",
      "number of integration bins for electrons = 1000\n",
      "number of integration bins for alpha = 1000\n",
      "density = 1.02 g/cm3\n",
      "Z = 5.2\n",
      "A = 11.04\n",
      "depth of spline interp. = 5\n",
      "energy above which interp. in implemented (for alpha) = 100.0 keV\n",
      "energy above which interp. in implemented (for electron) = 1.5 keV\n",
      "diameter of micelle = 2.0 nm\n",
      "acqueous fraction = 0.1\n"
     ]
    }
   ],
   "source": [
    "td.TDCR_model_lib.modifyDensity(1.02)\n",
    "print(\"New configuration:\")\n",
    "td.TDCR_model_lib.readParameters(disp=True)\n",
    "# back to the default value\n",
    "td.TDCR_model_lib.modifyDensity(0.96)"
   ]
  },
  {
   "cell_type": "code",
   "execution_count": null,
   "id": "6a2ca758-f28d-499c-9b13-288a75637ee9",
   "metadata": {},
   "outputs": [],
   "source": [
    "### Change the mean charge number of the LS source"
   ]
  },
  {
   "cell_type": "code",
   "execution_count": 16,
   "id": "71def280-2162-4943-b5a0-b50ed6ffa553",
   "metadata": {},
   "outputs": [
    {
     "name": "stdout",
     "output_type": "stream",
     "text": [
      "New configuration:\n",
      "number of integration bins for electrons = 1000\n",
      "number of integration bins for alpha = 1000\n",
      "density = 0.96 g/cm3\n",
      "Z = 5.7\n",
      "A = 11.04\n",
      "depth of spline interp. = 5\n",
      "energy above which interp. in implemented (for alpha) = 100.0 keV\n",
      "energy above which interp. in implemented (for electron) = 1.5 keV\n",
      "diameter of micelle = 2.0 nm\n",
      "acqueous fraction = 0.1\n"
     ]
    }
   ],
   "source": [
    "td.TDCR_model_lib.modifyZ(5.7)\n",
    "print(\"New configuration:\")\n",
    "td.TDCR_model_lib.readParameters(disp=True)\n",
    "# back to the default value\n",
    "td.TDCR_model_lib.modifyZ(5.2)"
   ]
  },
  {
   "cell_type": "code",
   "execution_count": null,
   "id": "a77d9cd6-87bd-4c06-b726-822598e22e39",
   "metadata": {},
   "outputs": [],
   "source": [
    "### Change the mean atomic mass number of the LS source"
   ]
  },
  {
   "cell_type": "code",
   "execution_count": 13,
   "id": "6efef2c8-99f7-4267-a200-2008676ced8f",
   "metadata": {},
   "outputs": [
    {
     "name": "stdout",
     "output_type": "stream",
     "text": [
      "New configuration:\n",
      "number of integration bins for electrons = 1000\n",
      "number of integration bins for alpha = 1000\n",
      "density = 0.96 g/cm3\n",
      "Z = 11.04\n",
      "A = 12.04\n",
      "depth of spline interp. = 5\n",
      "energy above which interp. in implemented (for alpha) = 100.0 keV\n",
      "energy above which interp. in implemented (for electron) = 1.5 keV\n",
      "diameter of micelle = 2.0 nm\n",
      "acqueous fraction = 0.1\n"
     ]
    }
   ],
   "source": [
    "td.TDCR_model_lib.modifyA(12.04)\n",
    "print(\"New configuration:\")\n",
    "td.TDCR_model_lib.readParameters(disp=True)\n",
    "# back to the default value\n",
    "td.TDCR_model_lib.modifyA(11.04)"
   ]
  },
  {
   "cell_type": "code",
   "execution_count": null,
   "id": "d90c80ed-c5e0-4fa6-91fe-8eacf5ecccf8",
   "metadata": {},
   "outputs": [],
   "source": [
    "### Change the depht paramerter of the spline interpolation of the quenching function"
   ]
  },
  {
   "cell_type": "code",
   "execution_count": 14,
   "id": "c864e844-63f9-4b8a-8561-89603898502b",
   "metadata": {},
   "outputs": [
    {
     "name": "stdout",
     "output_type": "stream",
     "text": [
      "New configuration:\n",
      "number of integration bins for electrons = 1000\n",
      "number of integration bins for alpha = 1000\n",
      "density = 0.96 g/cm3\n",
      "Z = 11.04\n",
      "A = 11.04\n",
      "depth of spline interp. = 7\n",
      "energy above which interp. in implemented (for alpha) = 100.0 keV\n",
      "energy above which interp. in implemented (for electron) = 1.5 keV\n",
      "diameter of micelle = 2.0 nm\n",
      "acqueous fraction = 0.1\n"
     ]
    }
   ],
   "source": [
    "td.TDCR_model_lib.modifyDepthSpline(7)\n",
    "print(\"New configuration:\")\n",
    "td.TDCR_model_lib.readParameters(disp=True)\n",
    "# back to the default value\n",
    "td.TDCR_model_lib.modifyDepthSpline(5)"
   ]
  },
  {
   "cell_type": "code",
   "execution_count": null,
   "id": "d40a4d41-19f9-4f31-8964-a074c3ec1b5d",
   "metadata": {},
   "outputs": [],
   "source": [
    "### Change the energy threshold (in keV) above which the interpolation is applied (for alpha particles)"
   ]
  },
  {
   "cell_type": "code",
   "execution_count": 17,
   "id": "87760ef6-a22e-4bd6-b663-c0f46627e018",
   "metadata": {},
   "outputs": [
    {
     "name": "stdout",
     "output_type": "stream",
     "text": [
      "New configuration:\n",
      "number of integration bins for electrons = 1000\n",
      "number of integration bins for alpha = 1000\n",
      "density = 0.96 g/cm3\n",
      "Z = 5.2\n",
      "A = 11.04\n",
      "depth of spline interp. = 5\n",
      "energy above which interp. in implemented (for alpha) = 200.0 keV\n",
      "energy above which interp. in implemented (for electron) = 1.5 keV\n",
      "diameter of micelle = 2.0 nm\n",
      "acqueous fraction = 0.1\n"
     ]
    }
   ],
   "source": [
    "td.TDCR_model_lib.modifyEinterp_a(200)\n",
    "print(\"New configuration:\")\n",
    "td.TDCR_model_lib.readParameters(disp=True)\n",
    "# back to the default value\n",
    "td.TDCR_model_lib.modifyEinterp_a(100)"
   ]
  },
  {
   "cell_type": "code",
   "execution_count": null,
   "id": "bdba8e23-f659-4c03-966a-e28c1bff0204",
   "metadata": {},
   "outputs": [],
   "source": [
    "### Change the energy threshold (in keV) above which the interpolation is applied (for electrons)"
   ]
  },
  {
   "cell_type": "code",
   "execution_count": 18,
   "id": "97eb0fb2-7f3f-4f6a-bfb4-4ed389256bd4",
   "metadata": {},
   "outputs": [
    {
     "name": "stdout",
     "output_type": "stream",
     "text": [
      "New configuration:\n",
      "number of integration bins for electrons = 1000\n",
      "number of integration bins for alpha = 1000\n",
      "density = 0.96 g/cm3\n",
      "Z = 5.2\n",
      "A = 11.04\n",
      "depth of spline interp. = 5\n",
      "energy above which interp. in implemented (for alpha) = 100.0 keV\n",
      "energy above which interp. in implemented (for electron) = 2.0 keV\n",
      "diameter of micelle = 2.0 nm\n",
      "acqueous fraction = 0.1\n"
     ]
    }
   ],
   "source": [
    "td.TDCR_model_lib.modifyEinterp_e(2.0)\n",
    "print(\"New configuration:\")\n",
    "td.TDCR_model_lib.readParameters(disp=True)\n",
    "# back to the default value\n",
    "td.TDCR_model_lib.modifyEinterp_e(1.5)"
   ]
  },
  {
   "cell_type": "code",
   "execution_count": null,
   "id": "fd6a8fd2-2638-4074-961d-c63d0f4eb351",
   "metadata": {},
   "outputs": [],
   "source": [
    "### Change the diameter of reverse micelles (in nm)"
   ]
  },
  {
   "cell_type": "code",
   "execution_count": 19,
   "id": "1ada11d2-7245-4fff-bc06-4b6073fc404f",
   "metadata": {},
   "outputs": [
    {
     "name": "stdout",
     "output_type": "stream",
     "text": [
      "New configuration:\n",
      "number of integration bins for electrons = 1000\n",
      "number of integration bins for alpha = 1000\n",
      "density = 0.96 g/cm3\n",
      "Z = 5.2\n",
      "A = 11.04\n",
      "depth of spline interp. = 5\n",
      "energy above which interp. in implemented (for alpha) = 100.0 keV\n",
      "energy above which interp. in implemented (for electron) = 1.5 keV\n",
      "diameter of micelle = 4.0 nm\n",
      "acqueous fraction = 0.1\n"
     ]
    }
   ],
   "source": [
    "td.TDCR_model_lib.modifyDiam_micelle(4.0)\n",
    "print(\"New configuration:\")\n",
    "td.TDCR_model_lib.readParameters(disp=True)\n",
    "# back to the default value\n",
    "td.TDCR_model_lib.modifyDiam_micelle(2.0)"
   ]
  },
  {
   "cell_type": "code",
   "execution_count": null,
   "id": "62182884-c4b1-4add-aa1a-78501e3b9f10",
   "metadata": {},
   "outputs": [],
   "source": [
    "### Change the acqueous fraction of the LS source"
   ]
  },
  {
   "cell_type": "code",
   "execution_count": 20,
   "id": "6add3013-ed0b-4e0d-9a0b-6958003160ee",
   "metadata": {},
   "outputs": [
    {
     "name": "stdout",
     "output_type": "stream",
     "text": [
      "New configuration:\n",
      "number of integration bins for electrons = 1000\n",
      "number of integration bins for alpha = 1000\n",
      "density = 0.96 g/cm3\n",
      "Z = 5.2\n",
      "A = 11.04\n",
      "depth of spline interp. = 5\n",
      "energy above which interp. in implemented (for alpha) = 100.0 keV\n",
      "energy above which interp. in implemented (for electron) = 1.5 keV\n",
      "diameter of micelle = 2.0 nm\n",
      "acqueous fraction = 0.2\n"
     ]
    }
   ],
   "source": [
    "td.TDCR_model_lib.modifyfAq(0.2)\n",
    "print(\"New configuration:\")\n",
    "td.TDCR_model_lib.readParameters(disp=True)\n",
    "# back to the default value\n",
    "td.TDCR_model_lib.modifyfAq(0.1)"
   ]
  },
  {
   "cell_type": "code",
   "execution_count": null,
   "id": "c74a549a-fc27-4b68-905f-3a67b0617e5f",
   "metadata": {},
   "outputs": [],
   "source": [
    "### Change the coincidence resolving time of the TDCR counter (in ns)"
   ]
  },
  {
   "cell_type": "code",
   "execution_count": 21,
   "id": "7c51db94-24d9-4219-93f7-d9f1e0f0c3ec",
   "metadata": {},
   "outputs": [
    {
     "name": "stdout",
     "output_type": "stream",
     "text": [
      "New configuration:\n",
      "number of integration bins for electrons = 1000\n",
      "number of integration bins for alpha = 1000\n",
      "density = 0.96 g/cm3\n",
      "Z = 5.2\n",
      "A = 11.04\n",
      "depth of spline interp. = 5\n",
      "energy above which interp. in implemented (for alpha) = 100.0 keV\n",
      "energy above which interp. in implemented (for electron) = 1.5 keV\n",
      "diameter of micelle = 2.0 nm\n",
      "acqueous fraction = 0.1\n"
     ]
    }
   ],
   "source": [
    "td.TDCR_model_lib.modifyTau(100)\n",
    "print(\"New configuration:\")\n",
    "td.TDCR_model_lib.readParameters(disp=True)\n",
    "# back to the default value\n",
    "td.TDCR_model_lib.modifyTau(50)"
   ]
  },
  {
   "cell_type": "code",
   "execution_count": null,
   "id": "9423266c-9e1e-4e7c-aaef-4e042d8b3e76",
   "metadata": {},
   "outputs": [],
   "source": []
  }
 ],
 "metadata": {
  "kernelspec": {
   "display_name": "Python 3 (ipykernel)",
   "language": "python",
   "name": "python3"
  },
  "language_info": {
   "codemirror_mode": {
    "name": "ipython",
    "version": 3
   },
   "file_extension": ".py",
   "mimetype": "text/x-python",
   "name": "python",
   "nbconvert_exporter": "python",
   "pygments_lexer": "ipython3",
   "version": "3.11.7"
  }
 },
 "nbformat": 4,
 "nbformat_minor": 5
}
