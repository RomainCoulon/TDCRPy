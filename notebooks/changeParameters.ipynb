{
 "cells": [
  {
   "cell_type": "markdown",
   "id": "67640198-d62f-48c6-bfb4-e2c9b2aeefbe",
   "metadata": {},
   "source": [
    "# Modify the parameters of the model (advanced settings)"
   ]
  },
  {
   "cell_type": "code",
   "execution_count": 1,
   "id": "9d689c45-536a-4dd9-8273-162f197e2826",
   "metadata": {},
   "outputs": [],
   "source": [
    "#pip install TDCRPy --upgrade"
   ]
  },
  {
   "cell_type": "code",
   "execution_count": 2,
   "id": "67d250a2-6bb3-4da2-8edb-d859b25932df",
   "metadata": {},
   "outputs": [],
   "source": [
    "import tdcrpy as td"
   ]
  },
  {
   "cell_type": "markdown",
   "id": "6f374ffa-96f9-430c-bb64-27e4c03754e5",
   "metadata": {},
   "source": [
    "## Read the parameters"
   ]
  },
  {
   "cell_type": "code",
   "execution_count": 3,
   "id": "6c11c882-1b03-4d83-8459-0fc6c31d5ab4",
   "metadata": {},
   "outputs": [
    {
     "name": "stdout",
     "output_type": "stream",
     "text": [
      "number of integration bins for electrons = 1000\n",
      "number of integration bins for alpha = 1000\n",
      "density = 0.96 g/cm3\n",
      "Z = 5.2\n",
      "A = 11.04\n",
      "depth of spline interp. = 5\n",
      "energy above which interp. in implemented (for alpha) = 100.0 keV\n",
      "energy above which interp. in implemented (for electron) = 1.5 keV\n",
      "activation of the micelle correction = False\n",
      "diameter of micelle = 2.0 nm\n",
      "acqueous fraction = 0.1\n",
      "coincidence resolving time = 50 ns\n",
      "extended dead time = 10 µs\n",
      "measurement time = 20 min\n",
      "\n",
      "parameters in a list:  (1000, 1000, 0.96, 5.2, 11.04, 5, 100.0, 1.5, 2.0, 0.1, 50, 10, 20, False)\n"
     ]
    }
   ],
   "source": [
    "print(\"\\nparameters in a list: \", td.TDCR_model_lib.readParameters(disp=True))"
   ]
  },
  {
   "cell_type": "markdown",
   "id": "d44e82dd-d3d2-4d30-bff4-ec876163417e",
   "metadata": {},
   "source": [
    "### Change energy binning the quenching function of electrons "
   ]
  },
  {
   "cell_type": "code",
   "execution_count": 4,
   "id": "ebdbee44-bbf4-43a3-89a7-232fd4ec5958",
   "metadata": {},
   "outputs": [
    {
     "name": "stdout",
     "output_type": "stream",
     "text": [
      "New configuration:\n",
      "number of integration bins for electrons = 100\n",
      "number of integration bins for alpha = 1000\n",
      "density = 0.96 g/cm3\n",
      "Z = 5.2\n",
      "A = 11.04\n",
      "depth of spline interp. = 5\n",
      "energy above which interp. in implemented (for alpha) = 100.0 keV\n",
      "energy above which interp. in implemented (for electron) = 1.5 keV\n",
      "activation of the micelle correction = False\n",
      "diameter of micelle = 2.0 nm\n",
      "acqueous fraction = 0.1\n",
      "coincidence resolving time = 50 ns\n",
      "extended dead time = 10 µs\n",
      "measurement time = 20 min\n"
     ]
    }
   ],
   "source": [
    "td.TDCR_model_lib.modifynE_electron(100)\n",
    "print(\"New configuration:\")\n",
    "td.TDCR_model_lib.readParameters(disp=True)\n",
    "# back to the default value\n",
    "td.TDCR_model_lib.modifynE_electron(1000)"
   ]
  },
  {
   "cell_type": "markdown",
   "id": "75f0e3ea-317f-4f08-91f5-bd80866403be",
   "metadata": {},
   "source": [
    "### Change energy binning the quenching function of alpha particles"
   ]
  },
  {
   "cell_type": "code",
   "execution_count": 5,
   "id": "ab4246bf-69ac-4e31-816a-33af7785c460",
   "metadata": {},
   "outputs": [
    {
     "name": "stdout",
     "output_type": "stream",
     "text": [
      "New configuration:\n",
      "number of integration bins for electrons = 1000\n",
      "number of integration bins for alpha = 100\n",
      "density = 0.96 g/cm3\n",
      "Z = 5.2\n",
      "A = 11.04\n",
      "depth of spline interp. = 5\n",
      "energy above which interp. in implemented (for alpha) = 100.0 keV\n",
      "energy above which interp. in implemented (for electron) = 1.5 keV\n",
      "activation of the micelle correction = False\n",
      "diameter of micelle = 2.0 nm\n",
      "acqueous fraction = 0.1\n",
      "coincidence resolving time = 50 ns\n",
      "extended dead time = 10 µs\n",
      "measurement time = 20 min\n"
     ]
    }
   ],
   "source": [
    "td.TDCR_model_lib.modifynE_alpha(100)\n",
    "print(\"New configuration:\")\n",
    "td.TDCR_model_lib.readParameters(disp=True)\n",
    "# back to the default value\n",
    "td.TDCR_model_lib.modifynE_alpha(1000)"
   ]
  },
  {
   "cell_type": "markdown",
   "id": "acd00eae-74a5-4464-a3a3-89b9e9976665",
   "metadata": {},
   "source": [
    "### Change the density (in g/cm3) of the LS source"
   ]
  },
  {
   "cell_type": "code",
   "execution_count": 6,
   "id": "85b06568-490e-4565-a0fc-b6ea4943ecca",
   "metadata": {},
   "outputs": [
    {
     "name": "stdout",
     "output_type": "stream",
     "text": [
      "New configuration:\n",
      "number of integration bins for electrons = 1000\n",
      "number of integration bins for alpha = 1000\n",
      "density = 1.02 g/cm3\n",
      "Z = 5.2\n",
      "A = 11.04\n",
      "depth of spline interp. = 5\n",
      "energy above which interp. in implemented (for alpha) = 100.0 keV\n",
      "energy above which interp. in implemented (for electron) = 1.5 keV\n",
      "activation of the micelle correction = False\n",
      "diameter of micelle = 2.0 nm\n",
      "acqueous fraction = 0.1\n",
      "coincidence resolving time = 50 ns\n",
      "extended dead time = 10 µs\n",
      "measurement time = 20 min\n"
     ]
    }
   ],
   "source": [
    "td.TDCR_model_lib.modifyDensity(1.02)\n",
    "print(\"New configuration:\")\n",
    "td.TDCR_model_lib.readParameters(disp=True)\n",
    "# back to the default value\n",
    "td.TDCR_model_lib.modifyDensity(0.96)"
   ]
  },
  {
   "cell_type": "markdown",
   "id": "8cce491d-588a-4403-9ba8-4dc554b7abc8",
   "metadata": {},
   "source": [
    "### Change the mean charge number of the LS source"
   ]
  },
  {
   "cell_type": "code",
   "execution_count": 7,
   "id": "71def280-2162-4943-b5a0-b50ed6ffa553",
   "metadata": {},
   "outputs": [
    {
     "name": "stdout",
     "output_type": "stream",
     "text": [
      "New configuration:\n",
      "number of integration bins for electrons = 1000\n",
      "number of integration bins for alpha = 1000\n",
      "density = 0.96 g/cm3\n",
      "Z = 5.7\n",
      "A = 11.04\n",
      "depth of spline interp. = 5\n",
      "energy above which interp. in implemented (for alpha) = 100.0 keV\n",
      "energy above which interp. in implemented (for electron) = 1.5 keV\n",
      "activation of the micelle correction = False\n",
      "diameter of micelle = 2.0 nm\n",
      "acqueous fraction = 0.1\n",
      "coincidence resolving time = 50 ns\n",
      "extended dead time = 10 µs\n",
      "measurement time = 20 min\n"
     ]
    }
   ],
   "source": [
    "td.TDCR_model_lib.modifyZ(5.7)\n",
    "print(\"New configuration:\")\n",
    "td.TDCR_model_lib.readParameters(disp=True)\n",
    "# back to the default value\n",
    "td.TDCR_model_lib.modifyZ(5.2)"
   ]
  },
  {
   "cell_type": "markdown",
   "id": "e04815a1-afd5-4aa1-be1a-d987d0a74b2d",
   "metadata": {},
   "source": [
    "### Change the mean atomic mass number of the LS source"
   ]
  },
  {
   "cell_type": "code",
   "execution_count": 8,
   "id": "6efef2c8-99f7-4267-a200-2008676ced8f",
   "metadata": {},
   "outputs": [
    {
     "name": "stdout",
     "output_type": "stream",
     "text": [
      "New configuration:\n",
      "number of integration bins for electrons = 1000\n",
      "number of integration bins for alpha = 1000\n",
      "density = 0.96 g/cm3\n",
      "Z = 5.2\n",
      "A = 12.04\n",
      "depth of spline interp. = 5\n",
      "energy above which interp. in implemented (for alpha) = 100.0 keV\n",
      "energy above which interp. in implemented (for electron) = 1.5 keV\n",
      "activation of the micelle correction = False\n",
      "diameter of micelle = 2.0 nm\n",
      "acqueous fraction = 0.1\n",
      "coincidence resolving time = 50 ns\n",
      "extended dead time = 10 µs\n",
      "measurement time = 20 min\n"
     ]
    }
   ],
   "source": [
    "td.TDCR_model_lib.modifyA(12.04)\n",
    "print(\"New configuration:\")\n",
    "td.TDCR_model_lib.readParameters(disp=True)\n",
    "# back to the default value\n",
    "td.TDCR_model_lib.modifyA(11.04)"
   ]
  },
  {
   "cell_type": "markdown",
   "id": "36da6c70-917d-4d2b-aa61-ab8eee4cd8c8",
   "metadata": {},
   "source": [
    "### Change the depht paramerter of the spline interpolation of the quenching function"
   ]
  },
  {
   "cell_type": "code",
   "execution_count": 9,
   "id": "c864e844-63f9-4b8a-8561-89603898502b",
   "metadata": {},
   "outputs": [
    {
     "name": "stdout",
     "output_type": "stream",
     "text": [
      "New configuration:\n",
      "number of integration bins for electrons = 1000\n",
      "number of integration bins for alpha = 1000\n",
      "density = 0.96 g/cm3\n",
      "Z = 5.2\n",
      "A = 11.04\n",
      "depth of spline interp. = 7\n",
      "energy above which interp. in implemented (for alpha) = 100.0 keV\n",
      "energy above which interp. in implemented (for electron) = 1.5 keV\n",
      "activation of the micelle correction = False\n",
      "diameter of micelle = 2.0 nm\n",
      "acqueous fraction = 0.1\n",
      "coincidence resolving time = 50 ns\n",
      "extended dead time = 10 µs\n",
      "measurement time = 20 min\n"
     ]
    }
   ],
   "source": [
    "td.TDCR_model_lib.modifyDepthSpline(7)\n",
    "print(\"New configuration:\")\n",
    "td.TDCR_model_lib.readParameters(disp=True)\n",
    "# back to the default value\n",
    "td.TDCR_model_lib.modifyDepthSpline(5)"
   ]
  },
  {
   "cell_type": "markdown",
   "id": "b60cf3b4-8746-41a8-9220-7f872be18673",
   "metadata": {},
   "source": [
    "### Change the energy threshold (in keV) above which the interpolation is applied (for alpha particles)"
   ]
  },
  {
   "cell_type": "code",
   "execution_count": 10,
   "id": "87760ef6-a22e-4bd6-b663-c0f46627e018",
   "metadata": {},
   "outputs": [
    {
     "name": "stdout",
     "output_type": "stream",
     "text": [
      "New configuration:\n",
      "number of integration bins for electrons = 1000\n",
      "number of integration bins for alpha = 1000\n",
      "density = 0.96 g/cm3\n",
      "Z = 5.2\n",
      "A = 11.04\n",
      "depth of spline interp. = 5\n",
      "energy above which interp. in implemented (for alpha) = 200.0 keV\n",
      "energy above which interp. in implemented (for electron) = 1.5 keV\n",
      "activation of the micelle correction = False\n",
      "diameter of micelle = 2.0 nm\n",
      "acqueous fraction = 0.1\n",
      "coincidence resolving time = 50 ns\n",
      "extended dead time = 10 µs\n",
      "measurement time = 20 min\n"
     ]
    }
   ],
   "source": [
    "td.TDCR_model_lib.modifyEinterp_a(200)\n",
    "print(\"New configuration:\")\n",
    "td.TDCR_model_lib.readParameters(disp=True)\n",
    "# back to the default value\n",
    "td.TDCR_model_lib.modifyEinterp_a(100)"
   ]
  },
  {
   "cell_type": "markdown",
   "id": "c298d94c-360a-46ac-ac1f-5a0e0e4ae3bc",
   "metadata": {},
   "source": [
    "### Change the energy threshold (in keV) above which the interpolation is applied (for electrons)"
   ]
  },
  {
   "cell_type": "code",
   "execution_count": 11,
   "id": "97eb0fb2-7f3f-4f6a-bfb4-4ed389256bd4",
   "metadata": {},
   "outputs": [
    {
     "name": "stdout",
     "output_type": "stream",
     "text": [
      "New configuration:\n",
      "number of integration bins for electrons = 1000\n",
      "number of integration bins for alpha = 1000\n",
      "density = 0.96 g/cm3\n",
      "Z = 5.2\n",
      "A = 11.04\n",
      "depth of spline interp. = 5\n",
      "energy above which interp. in implemented (for alpha) = 100.0 keV\n",
      "energy above which interp. in implemented (for electron) = 2.0 keV\n",
      "activation of the micelle correction = False\n",
      "diameter of micelle = 2.0 nm\n",
      "acqueous fraction = 0.1\n",
      "coincidence resolving time = 50 ns\n",
      "extended dead time = 10 µs\n",
      "measurement time = 20 min\n"
     ]
    }
   ],
   "source": [
    "td.TDCR_model_lib.modifyEinterp_e(2.0)\n",
    "print(\"New configuration:\")\n",
    "td.TDCR_model_lib.readParameters(disp=True)\n",
    "# back to the default value\n",
    "td.TDCR_model_lib.modifyEinterp_e(1.5)"
   ]
  },
  {
   "cell_type": "markdown",
   "id": "7091349d-ed03-49ff-a285-d192255177e0",
   "metadata": {},
   "source": [
    "### Activate/desactivate the micelles correction"
   ]
  },
  {
   "cell_type": "code",
   "execution_count": 12,
   "id": "33ff3e0a-cf6d-4ad3-9198-badcf3e49b18",
   "metadata": {},
   "outputs": [
    {
     "name": "stdout",
     "output_type": "stream",
     "text": [
      "New configuration:\n",
      "number of integration bins for electrons = 1000\n",
      "number of integration bins for alpha = 1000\n",
      "density = 0.96 g/cm3\n",
      "Z = 5.2\n",
      "A = 11.04\n",
      "depth of spline interp. = 5\n",
      "energy above which interp. in implemented (for alpha) = 100.0 keV\n",
      "energy above which interp. in implemented (for electron) = 1.5 keV\n",
      "activation of the micelle correction = False\n",
      "diameter of micelle = 2.0 nm\n",
      "acqueous fraction = 0.1\n",
      "coincidence resolving time = 50 ns\n",
      "extended dead time = 10 µs\n",
      "measurement time = 20 min\n"
     ]
    }
   ],
   "source": [
    "td.TDCR_model_lib.modifyMicCorr(False)\n",
    "print(\"New configuration:\")\n",
    "td.TDCR_model_lib.readParameters(disp=True)\n",
    "# back to the default value\n",
    "td.TDCR_model_lib.modifyMicCorr(True)"
   ]
  },
  {
   "cell_type": "markdown",
   "id": "c858414e-add1-44ab-a681-c7bcdbb66322",
   "metadata": {},
   "source": [
    "### Change the diameter of reverse micelles (in nm)"
   ]
  },
  {
   "cell_type": "code",
   "execution_count": 13,
   "id": "1ada11d2-7245-4fff-bc06-4b6073fc404f",
   "metadata": {},
   "outputs": [
    {
     "name": "stdout",
     "output_type": "stream",
     "text": [
      "New configuration:\n",
      "number of integration bins for electrons = 1000\n",
      "number of integration bins for alpha = 1000\n",
      "density = 0.96 g/cm3\n",
      "Z = 5.2\n",
      "A = 11.04\n",
      "depth of spline interp. = 5\n",
      "energy above which interp. in implemented (for alpha) = 100.0 keV\n",
      "energy above which interp. in implemented (for electron) = 1.5 keV\n",
      "activation of the micelle correction = False\n",
      "diameter of micelle = 4.0 nm\n",
      "acqueous fraction = 0.1\n",
      "coincidence resolving time = 50 ns\n",
      "extended dead time = 10 µs\n",
      "measurement time = 20 min\n"
     ]
    }
   ],
   "source": [
    "td.TDCR_model_lib.modifyDiam_micelle(4.0)\n",
    "print(\"New configuration:\")\n",
    "td.TDCR_model_lib.readParameters(disp=True)\n",
    "# back to the default value\n",
    "td.TDCR_model_lib.modifyDiam_micelle(2.0)"
   ]
  },
  {
   "cell_type": "markdown",
   "id": "abfd30b0-f0ae-4d10-90d9-dcc878c5368d",
   "metadata": {},
   "source": [
    "### Change the acqueous fraction of the LS source"
   ]
  },
  {
   "cell_type": "code",
   "execution_count": 14,
   "id": "6add3013-ed0b-4e0d-9a0b-6958003160ee",
   "metadata": {},
   "outputs": [
    {
     "name": "stdout",
     "output_type": "stream",
     "text": [
      "New configuration:\n",
      "number of integration bins for electrons = 1000\n",
      "number of integration bins for alpha = 1000\n",
      "density = 0.96 g/cm3\n",
      "Z = 5.2\n",
      "A = 11.04\n",
      "depth of spline interp. = 5\n",
      "energy above which interp. in implemented (for alpha) = 100.0 keV\n",
      "energy above which interp. in implemented (for electron) = 1.5 keV\n",
      "activation of the micelle correction = False\n",
      "diameter of micelle = 2.0 nm\n",
      "acqueous fraction = 0.2\n",
      "coincidence resolving time = 50 ns\n",
      "extended dead time = 10 µs\n",
      "measurement time = 20 min\n"
     ]
    }
   ],
   "source": [
    "td.TDCR_model_lib.modifyfAq(0.2)\n",
    "print(\"New configuration:\")\n",
    "td.TDCR_model_lib.readParameters(disp=True)\n",
    "# back to the default value\n",
    "td.TDCR_model_lib.modifyfAq(0.1)"
   ]
  },
  {
   "cell_type": "markdown",
   "id": "71cb722c-99e8-4951-b28d-456dcde52088",
   "metadata": {},
   "source": [
    "### Change the coincidence resolving time of the TDCR counter (in ns)"
   ]
  },
  {
   "cell_type": "code",
   "execution_count": 15,
   "id": "7c51db94-24d9-4219-93f7-d9f1e0f0c3ec",
   "metadata": {},
   "outputs": [
    {
     "name": "stdout",
     "output_type": "stream",
     "text": [
      "New configuration:\n",
      "number of integration bins for electrons = 1000\n",
      "number of integration bins for alpha = 1000\n",
      "density = 0.96 g/cm3\n",
      "Z = 5.2\n",
      "A = 11.04\n",
      "depth of spline interp. = 5\n",
      "energy above which interp. in implemented (for alpha) = 100.0 keV\n",
      "energy above which interp. in implemented (for electron) = 1.5 keV\n",
      "activation of the micelle correction = False\n",
      "diameter of micelle = 2.0 nm\n",
      "acqueous fraction = 0.1\n",
      "coincidence resolving time = 100 ns\n",
      "extended dead time = 10 µs\n",
      "measurement time = 20 min\n"
     ]
    }
   ],
   "source": [
    "td.TDCR_model_lib.modifyTau(100)\n",
    "print(\"New configuration:\")\n",
    "td.TDCR_model_lib.readParameters(disp=True)\n",
    "# back to the default value\n",
    "td.TDCR_model_lib.modifyTau(50)"
   ]
  },
  {
   "cell_type": "markdown",
   "id": "fe65598c-0b1e-4ae4-9994-c99d2b38e719",
   "metadata": {},
   "source": [
    "### Change the extended dead time of the TDCR counter (in µs)¶"
   ]
  },
  {
   "cell_type": "code",
   "execution_count": 16,
   "id": "9423266c-9e1e-4e7c-aaef-4e042d8b3e76",
   "metadata": {},
   "outputs": [
    {
     "name": "stdout",
     "output_type": "stream",
     "text": [
      "New configuration:\n",
      "number of integration bins for electrons = 1000\n",
      "number of integration bins for alpha = 1000\n",
      "density = 0.96 g/cm3\n",
      "Z = 5.2\n",
      "A = 11.04\n",
      "depth of spline interp. = 5\n",
      "energy above which interp. in implemented (for alpha) = 100.0 keV\n",
      "energy above which interp. in implemented (for electron) = 1.5 keV\n",
      "activation of the micelle correction = False\n",
      "diameter of micelle = 2.0 nm\n",
      "acqueous fraction = 0.1\n",
      "coincidence resolving time = 50 ns\n",
      "extended dead time = 100 µs\n",
      "measurement time = 20 min\n"
     ]
    }
   ],
   "source": [
    "td.TDCR_model_lib.modifyDeadTime(100)\n",
    "print(\"New configuration:\")\n",
    "td.TDCR_model_lib.readParameters(disp=True)\n",
    "# back to the default value\n",
    "td.TDCR_model_lib.modifyDeadTime(10)"
   ]
  },
  {
   "cell_type": "markdown",
   "id": "0fc0e52f-607f-47f8-b095-c18c0a801ee9",
   "metadata": {},
   "source": [
    "### Change the measurement time (in min)¶"
   ]
  },
  {
   "cell_type": "code",
   "execution_count": 17,
   "id": "6a2ad355-101d-4dba-88eb-0d9bd33b8c39",
   "metadata": {},
   "outputs": [
    {
     "name": "stdout",
     "output_type": "stream",
     "text": [
      "New configuration:\n",
      "number of integration bins for electrons = 1000\n",
      "number of integration bins for alpha = 1000\n",
      "density = 0.96 g/cm3\n",
      "Z = 5.2\n",
      "A = 11.04\n",
      "depth of spline interp. = 5\n",
      "energy above which interp. in implemented (for alpha) = 100.0 keV\n",
      "energy above which interp. in implemented (for electron) = 1.5 keV\n",
      "activation of the micelle correction = False\n",
      "diameter of micelle = 2.0 nm\n",
      "acqueous fraction = 0.1\n",
      "coincidence resolving time = 50 ns\n",
      "extended dead time = 10 µs\n",
      "measurement time = 60 min\n"
     ]
    }
   ],
   "source": [
    "td.TDCR_model_lib.modifyMeasTime(60)\n",
    "print(\"New configuration:\")\n",
    "td.TDCR_model_lib.readParameters(disp=True)\n",
    "# back to the default value\n",
    "td.TDCR_model_lib.modifyMeasTime(20)"
   ]
  }
 ],
 "metadata": {
  "kernelspec": {
   "display_name": "Python 3 (ipykernel)",
   "language": "python",
   "name": "python3"
  },
  "language_info": {
   "codemirror_mode": {
    "name": "ipython",
    "version": 3
   },
   "file_extension": ".py",
   "mimetype": "text/x-python",
   "name": "python",
   "nbconvert_exporter": "python",
   "pygments_lexer": "ipython3",
   "version": "3.11.7"
  }
 },
 "nbformat": 4,
 "nbformat_minor": 5
}
