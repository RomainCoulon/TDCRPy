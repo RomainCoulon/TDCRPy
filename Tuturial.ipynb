{
  "nbformat": 4,
  "nbformat_minor": 0,
  "metadata": {
    "colab": {
      "provenance": [],
      "name": "Tuturial.ipynb",
      "authorship_tag": "ABX9TyMkODXjqMh36YyG/Jhg2iRb",
      "include_colab_link": true
    },
    "kernelspec": {
      "name": "python3",
      "display_name": "Python 3"
    },
    "language_info": {
      "name": "python"
    }
  },
  "cells": [
    {
      "cell_type": "markdown",
      "metadata": {
        "id": "view-in-github",
        "colab_type": "text"
      },
      "source": [
        "<a href=\"https://colab.research.google.com/github/RomainCoulon/TDCRPy/blob/main/Tuturial.ipynb\" target=\"_parent\"><img src=\"https://colab.research.google.com/assets/colab-badge.svg\" alt=\"Open In Colab\"/></a>"
      ]
    },
    {
      "cell_type": "markdown",
      "source": [
        "## Tutorial for the TDCRPy code"
      ],
      "metadata": {
        "id": "ZXfBCjhMvBlQ"
      }
    },
    {
      "cell_type": "code",
      "execution_count": null,
      "metadata": {
        "colab": {
          "base_uri": "https://localhost:8080/"
        },
        "id": "P-OKSeggCbkp",
        "outputId": "1fa62cd4-2178-412a-fef8-eab9e6b9068c"
      },
      "outputs": [
        {
          "output_type": "stream",
          "name": "stdout",
          "text": [
            "Requirement already satisfied: TDCRPy in /usr/local/lib/python3.10/dist-packages (1.8.16)\n",
            "Requirement already satisfied: numpy in /usr/local/lib/python3.10/dist-packages (from TDCRPy) (1.25.2)\n",
            "Requirement already satisfied: tqdm in /usr/local/lib/python3.10/dist-packages (from TDCRPy) (4.66.2)\n",
            "Requirement already satisfied: setuptools in /usr/local/lib/python3.10/dist-packages (from TDCRPy) (67.7.2)\n",
            "Requirement already satisfied: scipy in /usr/local/lib/python3.10/dist-packages (from TDCRPy) (1.11.4)\n",
            "Requirement already satisfied: configparser in /usr/local/lib/python3.10/dist-packages (from TDCRPy) (6.0.1)\n",
            "Requirement already satisfied: importlib.resources in /usr/local/lib/python3.10/dist-packages (from TDCRPy) (6.4.0)\n",
            "Requirement already satisfied: matplotlib in /usr/local/lib/python3.10/dist-packages (from TDCRPy) (3.7.1)\n",
            "Requirement already satisfied: contourpy>=1.0.1 in /usr/local/lib/python3.10/dist-packages (from matplotlib->TDCRPy) (1.2.0)\n",
            "Requirement already satisfied: cycler>=0.10 in /usr/local/lib/python3.10/dist-packages (from matplotlib->TDCRPy) (0.12.1)\n",
            "Requirement already satisfied: fonttools>=4.22.0 in /usr/local/lib/python3.10/dist-packages (from matplotlib->TDCRPy) (4.50.0)\n",
            "Requirement already satisfied: kiwisolver>=1.0.1 in /usr/local/lib/python3.10/dist-packages (from matplotlib->TDCRPy) (1.4.5)\n",
            "Requirement already satisfied: packaging>=20.0 in /usr/local/lib/python3.10/dist-packages (from matplotlib->TDCRPy) (24.0)\n",
            "Requirement already satisfied: pillow>=6.2.0 in /usr/local/lib/python3.10/dist-packages (from matplotlib->TDCRPy) (9.4.0)\n",
            "Requirement already satisfied: pyparsing>=2.3.1 in /usr/local/lib/python3.10/dist-packages (from matplotlib->TDCRPy) (3.1.2)\n",
            "Requirement already satisfied: python-dateutil>=2.7 in /usr/local/lib/python3.10/dist-packages (from matplotlib->TDCRPy) (2.8.2)\n",
            "Requirement already satisfied: six>=1.5 in /usr/local/lib/python3.10/dist-packages (from python-dateutil>=2.7->matplotlib->TDCRPy) (1.16.0)\n"
          ]
        }
      ],
      "source": [
        "pip install TDCRPy"
      ]
    },
    {
      "cell_type": "code",
      "source": [
        "import tdcrpy"
      ],
      "metadata": {
        "id": "uA3jmlvEDCS1"
      },
      "execution_count": null,
      "outputs": []
    },
    {
      "cell_type": "markdown",
      "source": [
        "## Symmetric PMTs - estimation of detection efficiencies"
      ],
      "metadata": {
        "id": "F_lO1FSmHeno"
      }
    },
    {
      "cell_type": "code",
      "source": [
        "mode = \"eff\"               # ask for efficiency calculation\n",
        "mode2 = \"sym\"              # specify that symmetric PMTs is considered\n",
        "L = 1.2                    # free parameter in keV-1\n",
        "TD = 0.977667386529166     # not use\n",
        "TAB = 0.992232838598821    # not use\n",
        "TBC = 0.992343419459002    # not use\n",
        "TAC = 0.99275350064608     # not use\n",
        "Rad=\"Co-60\"                # radionuclide\n",
        "pmf_1=\"1\"                  # relative fraction of the radionulide\n",
        "N = 1000                   # number of Monte Carlo trials\n",
        "kB =1.0e-5                 # Birks constant in cm keV-1\n",
        "V = 10                     # volume of scintillator in mL"
      ],
      "metadata": {
        "id": "UhmnNbUKDJu4"
      },
      "execution_count": null,
      "outputs": []
    },
    {
      "cell_type": "code",
      "source": [
        "result = tdcrpy.TDCRPy.TDCRPy(L, TD, TAB, TBC, TAC, Rad, pmf_1, N, kB, V, mode, mode2)"
      ],
      "metadata": {
        "id": "61hjNEWUDThz"
      },
      "execution_count": null,
      "outputs": []
    },
    {
      "cell_type": "code",
      "source": [
        "print(f\"efficiency S = {round(result[0],4)} +/- {round(result[1],4)}\")\n",
        "print(f\"efficiency D = {round(result[2],4)} +/- {round(result[3],4)}\")\n",
        "print(f\"efficiency T = {round(result[4],4)} +/- {round(result[5],4)}\")"
      ],
      "metadata": {
        "id": "QIVyAPjpDnrm",
        "colab": {
          "base_uri": "https://localhost:8080/"
        },
        "outputId": "bc0f9b44-b368-4ac9-8bcc-4b0bd3e53aaf"
      },
      "execution_count": null,
      "outputs": [
        {
          "output_type": "stream",
          "name": "stdout",
          "text": [
            "efficiency S = 0.972 +/- 0.0039\n",
            "efficiency D = 0.9749 +/- 0.0041\n",
            "efficiency T = 0.9532 +/- 0.0057\n"
          ]
        }
      ]
    },
    {
      "cell_type": "markdown",
      "source": [
        "## Asymmetric PMTs - estimation of detection efficiencies"
      ],
      "metadata": {
        "id": "A0mOlTm0KQOZ"
      }
    },
    {
      "cell_type": "code",
      "source": [
        "mode = \"eff\"               # ask for efficiency calculation\n",
        "mode2 = \"asym\"             # specify that symmetric PMTs is considered\n",
        "L = (1.1, 1.3, 1.2)        # free parameter in keV-1\n",
        "TD = 0.977667386529166     # not use\n",
        "TAB = 0.992232838598821    # not use\n",
        "TBC = 0.992343419459002    # not use\n",
        "TAC = 0.99275350064608     # not use\n",
        "Rad=\"Co-60\"                # radionuclide\n",
        "pmf_1=\"1\"                  # relative fraction of the radionulide\n",
        "N = 1000                   # number of Monte Carlo trials\n",
        "kB =1.0e-5                 # Birks constant in cm keV-1\n",
        "V = 10                     # volume of scintillator in mL"
      ],
      "metadata": {
        "id": "eMnbtVO_Kbza"
      },
      "execution_count": null,
      "outputs": []
    },
    {
      "cell_type": "code",
      "source": [
        "result = tdcrpy.TDCRPy.TDCRPy(L, TD, TAB, TBC, TAC, Rad, pmf_1, N, kB, V, mode, mode2)"
      ],
      "metadata": {
        "id": "n0He4QjqKf45"
      },
      "execution_count": null,
      "outputs": []
    },
    {
      "cell_type": "code",
      "source": [
        "print(f\"efficiency S = {round(result[0],4)} +/- {round(result[1],4)}\")\n",
        "print(f\"efficiency D = {round(result[2],4)} +/- {round(result[3],4)}\")\n",
        "print(f\"efficiency T = {round(result[4],4)} +/- {round(result[5],4)}\")"
      ],
      "metadata": {
        "id": "EXx_N17vKnBT",
        "colab": {
          "base_uri": "https://localhost:8080/"
        },
        "outputId": "8a4228dd-52e0-46e5-e721-c91540b52975"
      },
      "execution_count": null,
      "outputs": [
        {
          "output_type": "stream",
          "name": "stdout",
          "text": [
            "efficiency S = 0.9906 +/- 0.0022\n",
            "efficiency D = 0.9782 +/- 0.0038\n",
            "efficiency T = 0.9591 +/- 0.0053\n"
          ]
        }
      ]
    },
    {
      "cell_type": "markdown",
      "source": [
        "## Residuals"
      ],
      "metadata": {
        "id": "W2dKLpgGlw2d"
      }
    },
    {
      "cell_type": "code",
      "source": [
        "mode = \"res\"               # ask for efficiency calculation\n",
        "mode2 = \"sym\"              # specify that symmetric PMTs is considered\n",
        "L = 1.2                    # free parameter in keV-1\n",
        "TD = 0.977667386529166     # TDCR parameter\n",
        "TAB = 0.992232838598821    # TDCR parameter (AB)\n",
        "TBC = 0.992343419459002    # TDCR parameter (BC)\n",
        "TAC = 0.99275350064608     # TDCR parameter (AC)\n",
        "Rad=\"Co-60\"                # radionuclide\n",
        "pmf_1=\"1\"                  # relative fraction of the radionulide\n",
        "N = 1000                   # number of Monte Carlo trials\n",
        "kB =1.0e-5                 # Birks constant in cm keV-1\n",
        "V = 10                     # volume of scintillator in mL"
      ],
      "metadata": {
        "id": "6j2SiFfOmFXD"
      },
      "execution_count": null,
      "outputs": []
    },
    {
      "cell_type": "code",
      "source": [
        "result = tdcrpy.TDCRPy.TDCRPy(L, TD, TAB, TBC, TAC, Rad, pmf_1, N, kB, V, mode, mode2)"
      ],
      "metadata": {
        "id": "9DE22AsKmg8k"
      },
      "execution_count": null,
      "outputs": []
    },
    {
      "cell_type": "code",
      "source": [
        "print(f\"residuals = {round(result,10)}\")"
      ],
      "metadata": {
        "id": "VD8Rv_QamqwG",
        "colab": {
          "base_uri": "https://localhost:8080/"
        },
        "outputId": "0ac329e7-ae53-452a-c72c-083628c60a72"
      },
      "execution_count": null,
      "outputs": [
        {
          "output_type": "stream",
          "name": "stdout",
          "text": [
            "residuals = 5.4e-09\n"
          ]
        }
      ]
    },
    {
      "cell_type": "markdown",
      "source": [
        "## Radionuclide mixture"
      ],
      "metadata": {
        "id": "6jY9096TvJBz"
      }
    },
    {
      "cell_type": "code",
      "source": [
        "mode = \"eff\"               # ask for efficiency calculation\n",
        "mode2 = \"sym\"              # specify that symmetric PMTs is considered\n",
        "L = 1.2                    # free parameter in keV-1\n",
        "TD = 0.977667386529166     # TDCR parameter\n",
        "TAB = 0.992232838598821    # TDCR parameter (AB)\n",
        "TBC = 0.992343419459002    # TDCR parameter (BC)\n",
        "TAC = 0.99275350064608     # TDCR parameter (AC)\n",
        "Rad=\"Co-60, H-3\"           # radionuclides\n",
        "pmf_1=\"0.8, 0.2\"                  # relatives fractions of the radionulides\n",
        "N = 1000                   # number of Monte Carlo trials\n",
        "kB =1.0e-5                 # Birks constant in cm keV-1\n",
        "V = 10                     # volume of scintillator in mL"
      ],
      "metadata": {
        "id": "mxxiTHvJvJB0"
      },
      "execution_count": null,
      "outputs": []
    },
    {
      "cell_type": "code",
      "source": [
        "result = tdcrpy.TDCRPy.TDCRPy(L, TD, TAB, TBC, TAC, Rad, pmf_1, N, kB, V, mode, mode2)"
      ],
      "metadata": {
        "id": "hWmggyi5vJB0"
      },
      "execution_count": null,
      "outputs": []
    },
    {
      "cell_type": "code",
      "source": [
        "print(f\"efficiency S = {round(result[0],4)} +/- {round(result[1],4)}\")\n",
        "print(f\"efficiency D = {round(result[2],4)} +/- {round(result[3],4)}\")\n",
        "print(f\"efficiency T = {round(result[4],4)} +/- {round(result[5],4)}\")"
      ],
      "metadata": {
        "colab": {
          "base_uri": "https://localhost:8080/"
        },
        "id": "TjOF1mBww-re",
        "outputId": "2e5ecdc5-d612-4721-b485-77ba59632160"
      },
      "execution_count": null,
      "outputs": [
        {
          "output_type": "stream",
          "name": "stdout",
          "text": [
            "efficiency S = 0.9009 +/- 0.0069\n",
            "efficiency D = 0.9077 +/- 0.0074\n",
            "efficiency T = 0.8357 +/- 0.01\n"
          ]
        }
      ]
    }
  ]
}