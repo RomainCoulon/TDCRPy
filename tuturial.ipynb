{
 "cells": [
  {
   "cell_type": "markdown",
   "metadata": {
    "colab_type": "text",
    "id": "view-in-github"
   },
   "source": [
    "<a href=\"https://colab.research.google.com/github/RomainCoulon/TDCRPy/blob/main/Tuturial.ipynb\" target=\"_parent\"><img src=\"https://colab.research.google.com/assets/colab-badge.svg\" alt=\"Open In Colab\"/></a>"
   ]
  },
  {
   "cell_type": "markdown",
   "metadata": {
    "id": "ZXfBCjhMvBlQ"
   },
   "source": [
    "# Quick start with the TDCRPy code"
   ]
  },
  {
   "cell_type": "code",
   "execution_count": 1,
   "metadata": {
    "colab": {
     "base_uri": "https://localhost:8080/"
    },
    "id": "P-OKSeggCbkp",
    "outputId": "1fa62cd4-2178-412a-fef8-eab9e6b9068c"
   },
   "outputs": [],
   "source": [
    "#pip install TDCRPy --upgrade"
   ]
  },
  {
   "cell_type": "code",
   "execution_count": 2,
   "metadata": {
    "id": "uA3jmlvEDCS1"
   },
   "outputs": [],
   "source": [
    "import tdcrpy"
   ]
  },
  {
   "cell_type": "markdown",
   "metadata": {
    "id": "F_lO1FSmHeno"
   },
   "source": [
    "## 1. Symmetric PMTs\n",
    "\n",
    "### 1.1 Estimation of detection efficiencies given the free parameter"
   ]
  },
  {
   "cell_type": "code",
   "execution_count": 3,
   "metadata": {
    "id": "UhmnNbUKDJu4"
   },
   "outputs": [],
   "source": [
    "mode = \"eff\"               # ask for efficiency calculation\n",
    "L = 1.2                    # free parameter in keV-1\n",
    "Rad=\"Co-60\"                # radionuclide\n",
    "pmf_1=\"1\"                  # relative fraction of the radionulide\n",
    "N = 1000                   # number of Monte Carlo trials\n",
    "kB =1.0e-5                 # Birks constant in cm keV-1\n",
    "V = 10                     # volume of scintillator in mL"
   ]
  },
  {
   "cell_type": "code",
   "execution_count": 4,
   "metadata": {
    "id": "61hjNEWUDThz"
   },
   "outputs": [],
   "source": [
    "result = tdcrpy.TDCRPy.TDCRPy(L, Rad, pmf_1, N, kB, V, mode)"
   ]
  },
  {
   "cell_type": "code",
   "execution_count": 5,
   "metadata": {
    "colab": {
     "base_uri": "https://localhost:8080/"
    },
    "id": "QIVyAPjpDnrm",
    "outputId": "bc0f9b44-b368-4ac9-8bcc-4b0bd3e53aaf"
   },
   "outputs": [
    {
     "name": "stdout",
     "output_type": "stream",
     "text": [
      "efficiency S = 0.9859 +/- 0.0031\n",
      "efficiency D = 0.9738 +/- 0.0043\n",
      "efficiency T = 0.9527 +/- 0.0057\n",
      "efficiency D (C/N system) = 0.9702 +/- 0.0045\n"
     ]
    }
   ],
   "source": [
    "print(f\"efficiency S = {round(result[0],4)} +/- {round(result[1],4)}\")\n",
    "print(f\"efficiency D = {round(result[2],4)} +/- {round(result[3],4)}\")\n",
    "print(f\"efficiency T = {round(result[4],4)} +/- {round(result[5],4)}\")\n",
    "print(f\"efficiency D (C/N system) = {round(result[12],4)} +/- {round(result[13],4)}\")"
   ]
  },
  {
   "cell_type": "markdown",
   "metadata": {
    "id": "W2dKLpgGlw2d"
   },
   "source": [
    "### 1.2 Estimation of detection efficiencies given the measured TDCR parameter"
   ]
  },
  {
   "cell_type": "code",
   "execution_count": 6,
   "metadata": {
    "id": "6j2SiFfOmFXD"
   },
   "outputs": [],
   "source": [
    "TD = 0.977667386529166     # TDCR parameter"
   ]
  },
  {
   "cell_type": "code",
   "execution_count": 7,
   "metadata": {
    "id": "9DE22AsKmg8k"
   },
   "outputs": [
    {
     "name": "stdout",
     "output_type": "stream",
     "text": [
      "global free parameter = 1.1991314352332345 keV-1\n"
     ]
    }
   ],
   "source": [
    "result = tdcrpy.TDCRPy.eff(TD, Rad, pmf_1, kB, V)"
   ]
  },
  {
   "cell_type": "code",
   "execution_count": 8,
   "metadata": {
    "colab": {
     "base_uri": "https://localhost:8080/"
    },
    "id": "QIVyAPjpDnrm",
    "outputId": "bc0f9b44-b368-4ac9-8bcc-4b0bd3e53aaf"
   },
   "outputs": [
    {
     "name": "stdout",
     "output_type": "stream",
     "text": [
      "free parameter = 1.1991 keV-1\n",
      "efficiency S = 0.9858 +/- 0.001\n",
      "efficiency D = 0.973 +/- 0.0014\n",
      "efficiency T = 0.9512 +/- 0.0018\n",
      "efficiency D (C/N system) = 0.9692 +/- 0.0014\n"
     ]
    }
   ],
   "source": [
    "print(f\"free parameter = {round(result[0],4)} keV-1\")\n",
    "print(f\"efficiency S = {round(result[2],4)} +/- {round(result[3],4)}\")\n",
    "print(f\"efficiency D = {round(result[4],4)} +/- {round(result[5],4)}\")\n",
    "print(f\"efficiency T = {round(result[6],4)} +/- {round(result[7],4)}\")\n",
    "print(f\"efficiency D (C/N system) = {round(result[14],4)} +/- {round(result[15],4)}\")"
   ]
  },
  {
   "cell_type": "markdown",
   "metadata": {
    "id": "F_lO1FSmHeno"
   },
   "source": [
    "## 2. Asymmetric PMTs\n",
    "\n",
    "### 2.1 Estimation of detection efficiencies given the free parameters"
   ]
  },
  {
   "cell_type": "code",
   "execution_count": 9,
   "metadata": {
    "id": "eMnbtVO_Kbza"
   },
   "outputs": [],
   "source": [
    "mode = \"eff\"               # ask for efficiency calculation\n",
    "L = (1.1, 1.3, 1.2)        # free parameter in keV-1\n",
    "Rad=\"Co-60\"                # radionuclide\n",
    "pmf_1=\"1\"                  # relative fraction of the radionulide\n",
    "N = 1000                   # number of Monte Carlo trials\n",
    "kB =1.0e-5                 # Birks constant in cm keV-1\n",
    "V = 10                     # volume of scintillator in mL"
   ]
  },
  {
   "cell_type": "code",
   "execution_count": 10,
   "metadata": {
    "id": "n0He4QjqKf45"
   },
   "outputs": [],
   "source": [
    "result = tdcrpy.TDCRPy.TDCRPy(L, Rad, pmf_1, N, kB, V)"
   ]
  },
  {
   "cell_type": "code",
   "execution_count": 11,
   "metadata": {
    "colab": {
     "base_uri": "https://localhost:8080/"
    },
    "id": "QIVyAPjpDnrm",
    "outputId": "bc0f9b44-b368-4ac9-8bcc-4b0bd3e53aaf"
   },
   "outputs": [
    {
     "name": "stdout",
     "output_type": "stream",
     "text": [
      "efficiency S = 0.9904 +/- 0.0024\n",
      "efficiency D = 0.9803 +/- 0.0037\n",
      "efficiency T = 0.9625 +/- 0.005\n",
      "efficiency AB = 0.9684 +/- 0.0045\n",
      "efficiency BC = 0.9696 +/- 0.0044\n",
      "efficiency AC = 0.9674 +/- 0.0046\n",
      "efficiency D (C/N system) = 0.9772 +/- 0.0039\n"
     ]
    }
   ],
   "source": [
    "print(f\"efficiency S = {round(result[0],4)} +/- {round(result[1],4)}\")\n",
    "print(f\"efficiency D = {round(result[2],4)} +/- {round(result[3],4)}\")\n",
    "print(f\"efficiency T = {round(result[4],4)} +/- {round(result[5],4)}\")\n",
    "print(f\"efficiency AB = {round(result[6],4)} +/- {round(result[7],4)}\")\n",
    "print(f\"efficiency BC = {round(result[8],4)} +/- {round(result[9],4)}\")\n",
    "print(f\"efficiency AC = {round(result[10],4)} +/- {round(result[11],4)}\")\n",
    "print(f\"efficiency D (C/N system) = {round(result[12],4)} +/- {round(result[13],4)}\")"
   ]
  },
  {
   "cell_type": "markdown",
   "metadata": {
    "id": "W2dKLpgGlw2d"
   },
   "source": [
    "### 2.2 Estimation of detection efficiencies given the measured TDCR parameters"
   ]
  },
  {
   "cell_type": "code",
   "execution_count": 14,
   "metadata": {
    "id": "UhmnNbUKDJu4"
   },
   "outputs": [],
   "source": [
    "TD = [0.977667386529166, 0.992232838598821, 0.992343419459002, 0.99275350064608]"
   ]
  },
  {
   "cell_type": "code",
   "execution_count": 15,
   "metadata": {
    "id": "9DE22AsKmg8k"
   },
   "outputs": [
    {
     "name": "stdout",
     "output_type": "stream",
     "text": [
      "global free parameter = 1.2369501044018718 keV-1\n",
      "free parameters = [1.2369501 1.2369501 1.2369501] keV-1\n"
     ]
    }
   ],
   "source": [
    "result = tdcrpy.TDCRPy.eff(TD, Rad, pmf_1, kB, V)"
   ]
  },
  {
   "cell_type": "code",
   "execution_count": 16,
   "metadata": {
    "colab": {
     "base_uri": "https://localhost:8080/"
    },
    "id": "QIVyAPjpDnrm",
    "outputId": "bc0f9b44-b368-4ac9-8bcc-4b0bd3e53aaf"
   },
   "outputs": [
    {
     "name": "stdout",
     "output_type": "stream",
     "text": [
      "Global free parameter = 1.237 keV-1\n",
      "free parameter of PMT A = 1.237 keV-1\n",
      "free parameter of PMT B = 1.237 keV-1\n",
      "free parameter of PMT C = 1.237 keV-1\n",
      "efficiency S = 0.9872 +/- 0.0009\n",
      "efficiency D = 0.9751 +/- 0.0013\n",
      "efficiency T = 0.9533 +/- 0.0018\n",
      "efficiency AB = 0.9606 +/- 0.0016\n",
      "efficiency BC = 0.9606 +/- 0.0016\n",
      "efficiency AC = 0.9606 +/- 0.0016\n",
      "efficiency D (C/N system) = 0.9714 +/- 0.0014\n"
     ]
    }
   ],
   "source": [
    "print(f\"Global free parameter = {round(result[0],4)} keV-1\")\n",
    "print(f\"free parameter of PMT A = {round(result[1][0],4)} keV-1\")\n",
    "print(f\"free parameter of PMT B = {round(result[1][1],4)} keV-1\")\n",
    "print(f\"free parameter of PMT C = {round(result[1][2],4)} keV-1\")\n",
    "print(f\"efficiency S = {round(result[2],4)} +/- {round(result[3],4)}\")\n",
    "print(f\"efficiency D = {round(result[4],4)} +/- {round(result[5],4)}\")\n",
    "print(f\"efficiency T = {round(result[6],4)} +/- {round(result[7],4)}\")\n",
    "print(f\"efficiency AB = {round(result[8],4)} +/- {round(result[9],4)}\")\n",
    "print(f\"efficiency BC = {round(result[10],4)} +/- {round(result[11],4)}\")\n",
    "print(f\"efficiency AC = {round(result[12],4)} +/- {round(result[13],4)}\")\n",
    "print(f\"efficiency D (C/N system) = {round(result[14],4)} +/- {round(result[15],4)}\")"
   ]
  },
  {
   "cell_type": "markdown",
   "metadata": {
    "id": "6jY9096TvJBz"
   },
   "source": [
    "## 3. Radionuclide mixture\n",
    "\n",
    "### 3.1 Estimation of detection efficiencies given the free parameter"
   ]
  },
  {
   "cell_type": "code",
   "execution_count": 17,
   "metadata": {
    "id": "mxxiTHvJvJB0"
   },
   "outputs": [],
   "source": [
    "mode = \"eff\"               # ask for efficiency calculation\n",
    "mode2 = \"sym\"              # specify that symmetric PMTs is considered\n",
    "L = 1.2                    # free parameter in keV-1\n",
    "Rad=\"Co-60, H-3\"           # radionuclides\n",
    "pmf_1=\"0.8, 0.2\"                  # relatives fractions of the radionulides\n",
    "N = 1000                   # number of Monte Carlo trials\n",
    "kB =1.0e-5                 # Birks constant in cm keV-1\n",
    "V = 10                     # volume of scintillator in mL"
   ]
  },
  {
   "cell_type": "code",
   "execution_count": 18,
   "metadata": {
    "id": "hWmggyi5vJB0"
   },
   "outputs": [],
   "source": [
    "result = tdcrpy.TDCRPy.TDCRPy(L, Rad, pmf_1, N, kB, V)"
   ]
  },
  {
   "cell_type": "code",
   "execution_count": 19,
   "metadata": {
    "colab": {
     "base_uri": "https://localhost:8080/"
    },
    "id": "TjOF1mBww-re",
    "outputId": "2e5ecdc5-d612-4721-b485-77ba59632160"
   },
   "outputs": [
    {
     "name": "stdout",
     "output_type": "stream",
     "text": [
      "efficiency S = 0.9622 +/- 0.0045\n",
      "efficiency D = 0.9163 +/- 0.007\n",
      "efficiency T = 0.8482 +/- 0.0096\n",
      "efficiency D (C/N system) = 0.9037 +/- 0.0074\n"
     ]
    }
   ],
   "source": [
    "print(f\"efficiency S = {round(result[0],4)} +/- {round(result[1],4)}\")\n",
    "print(f\"efficiency D = {round(result[2],4)} +/- {round(result[3],4)}\")\n",
    "print(f\"efficiency T = {round(result[4],4)} +/- {round(result[5],4)}\")\n",
    "print(f\"efficiency D (C/N system) = {round(result[12],4)} +/- {round(result[13],4)}\")"
   ]
  },
  {
   "cell_type": "markdown",
   "metadata": {
    "id": "W2dKLpgGlw2d"
   },
   "source": [
    "### 3.2 Estimation of detection efficiencies given the measured TDCR parameter"
   ]
  },
  {
   "cell_type": "code",
   "execution_count": 22,
   "metadata": {},
   "outputs": [],
   "source": [
    "TD = 0.977667386529166     # TDCR parameter"
   ]
  },
  {
   "cell_type": "code",
   "execution_count": 23,
   "metadata": {},
   "outputs": [
    {
     "name": "stdout",
     "output_type": "stream",
     "text": [
      "global free parameter = 4.999573818598962 keV-1\n"
     ]
    }
   ],
   "source": [
    "result = tdcrpy.TDCRPy.eff(TD, Rad, pmf_1, kB, V)"
   ]
  },
  {
   "cell_type": "code",
   "execution_count": 24,
   "metadata": {},
   "outputs": [
    {
     "name": "stdout",
     "output_type": "stream",
     "text": [
      "free parameter = 4.9996 keV-1\n",
      "efficiency S = 0.9835 +/- 0.001\n",
      "efficiency D = 0.9677 +/- 0.0015\n",
      "efficiency T = 0.9397 +/- 0.002\n",
      "efficiency D (C/N system) = 0.9629 +/- 0.0016\n"
     ]
    }
   ],
   "source": [
    "print(f\"free parameter = {round(result[0],4)} keV-1\")\n",
    "print(f\"efficiency S = {round(result[2],4)} +/- {round(result[3],4)}\")\n",
    "print(f\"efficiency D = {round(result[4],4)} +/- {round(result[5],4)}\")\n",
    "print(f\"efficiency T = {round(result[6],4)} +/- {round(result[7],4)}\")\n",
    "print(f\"efficiency D (C/N system) = {round(result[14],4)} +/- {round(result[15],4)}\")"
   ]
  },
  {
   "cell_type": "code",
   "execution_count": null,
   "metadata": {},
   "outputs": [],
   "source": []
  }
 ],
 "metadata": {
  "colab": {
   "authorship_tag": "ABX9TyMkODXjqMh36YyG/Jhg2iRb",
   "include_colab_link": true,
   "name": "Tuturial.ipynb",
   "provenance": []
  },
  "kernelspec": {
   "display_name": "Python 3 (ipykernel)",
   "language": "python",
   "name": "python3"
  },
  "language_info": {
   "codemirror_mode": {
    "name": "ipython",
    "version": 3
   },
   "file_extension": ".py",
   "mimetype": "text/x-python",
   "name": "python",
   "nbconvert_exporter": "python",
   "pygments_lexer": "ipython3",
   "version": "3.11.7"
  }
 },
 "nbformat": 4,
 "nbformat_minor": 4
}
