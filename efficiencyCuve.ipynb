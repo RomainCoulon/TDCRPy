{
 "cells": [
  {
   "cell_type": "markdown",
   "id": "81a21962-1dbf-4185-ba68-96484a8aaba5",
   "metadata": {},
   "source": [
    "# Build efficiency curves using TDCRPy"
   ]
  },
  {
   "cell_type": "code",
   "execution_count": 1,
   "id": "c57bf158-d3b6-4bda-aaff-2d38267a575b",
   "metadata": {},
   "outputs": [
    {
     "name": "stdout",
     "output_type": "stream",
     "text": [
      "Defaulting to user installation because normal site-packages is not writeable\n",
      "Collecting TDCRPy\n",
      "  Using cached TDCRPy-1.12.5-py3-none-any.whl.metadata (15 kB)\n",
      "Requirement already satisfied: numpy in c:\\programdata\\anaconda3\\lib\\site-packages (from TDCRPy) (1.26.4)\n",
      "Requirement already satisfied: tqdm in c:\\programdata\\anaconda3\\lib\\site-packages (from TDCRPy) (4.65.0)\n",
      "Requirement already satisfied: setuptools in c:\\programdata\\anaconda3\\lib\\site-packages (from TDCRPy) (68.2.2)\n",
      "Requirement already satisfied: scipy in c:\\programdata\\anaconda3\\lib\\site-packages (from TDCRPy) (1.11.4)\n",
      "Requirement already satisfied: configparser in c:\\users\\romain.coulon\\appdata\\roaming\\python\\python311\\site-packages (from TDCRPy) (6.0.1)\n",
      "Requirement already satisfied: importlib.resources in c:\\users\\romain.coulon\\appdata\\roaming\\python\\python311\\site-packages (from TDCRPy) (6.4.0)\n",
      "Requirement already satisfied: matplotlib in c:\\programdata\\anaconda3\\lib\\site-packages (from TDCRPy) (3.8.0)\n",
      "Requirement already satisfied: contourpy>=1.0.1 in c:\\programdata\\anaconda3\\lib\\site-packages (from matplotlib->TDCRPy) (1.2.0)\n",
      "Requirement already satisfied: cycler>=0.10 in c:\\programdata\\anaconda3\\lib\\site-packages (from matplotlib->TDCRPy) (0.11.0)\n",
      "Requirement already satisfied: fonttools>=4.22.0 in c:\\programdata\\anaconda3\\lib\\site-packages (from matplotlib->TDCRPy) (4.25.0)\n",
      "Requirement already satisfied: kiwisolver>=1.0.1 in c:\\programdata\\anaconda3\\lib\\site-packages (from matplotlib->TDCRPy) (1.4.4)\n",
      "Requirement already satisfied: packaging>=20.0 in c:\\programdata\\anaconda3\\lib\\site-packages (from matplotlib->TDCRPy) (23.1)\n",
      "Requirement already satisfied: pillow>=6.2.0 in c:\\programdata\\anaconda3\\lib\\site-packages (from matplotlib->TDCRPy) (10.2.0)\n",
      "Requirement already satisfied: pyparsing>=2.3.1 in c:\\programdata\\anaconda3\\lib\\site-packages (from matplotlib->TDCRPy) (3.0.9)\n",
      "Requirement already satisfied: python-dateutil>=2.7 in c:\\programdata\\anaconda3\\lib\\site-packages (from matplotlib->TDCRPy) (2.8.2)\n",
      "Requirement already satisfied: colorama in c:\\programdata\\anaconda3\\lib\\site-packages (from tqdm->TDCRPy) (0.4.6)\n",
      "Requirement already satisfied: six>=1.5 in c:\\programdata\\anaconda3\\lib\\site-packages (from python-dateutil>=2.7->matplotlib->TDCRPy) (1.16.0)\n",
      "Using cached TDCRPy-1.12.5-py3-none-any.whl (24.5 MB)\n",
      "Installing collected packages: TDCRPy\n",
      "Note: you may need to restart the kernel to use updated packages.\n"
     ]
    },
    {
     "name": "stderr",
     "output_type": "stream",
     "text": [
      "WARNING: Ignoring invalid distribution ~dcrpy (C:\\Users\\romain.coulon\\AppData\\Roaming\\Python\\Python311\\site-packages)\n",
      "WARNING: Ignoring invalid distribution ~dcrpy (C:\\Users\\romain.coulon\\AppData\\Roaming\\Python\\Python311\\site-packages)\n",
      "WARNING: Ignoring invalid distribution ~dcrpy (C:\\Users\\romain.coulon\\AppData\\Roaming\\Python\\Python311\\site-packages)\n",
      "ERROR: Could not install packages due to an OSError: [WinError 32] Le processus ne peut pas accéder au fichier car ce fichier est utilisé par un autre processus: 'C:\\\\Users\\\\romain.coulon\\\\AppData\\\\Roaming\\\\Python\\\\Python311\\\\site-packages\\\\tdcrpy\\\\Micelle\\\\faq01.csv'\n",
      "Check the permissions.\n",
      "\n",
      "WARNING: Ignoring invalid distribution ~dcrpy (C:\\Users\\romain.coulon\\AppData\\Roaming\\Python\\Python311\\site-packages)\n",
      "WARNING: Ignoring invalid distribution ~dcrpy (C:\\Users\\romain.coulon\\AppData\\Roaming\\Python\\Python311\\site-packages)\n",
      "WARNING: Ignoring invalid distribution ~dcrpy (C:\\Users\\romain.coulon\\AppData\\Roaming\\Python\\Python311\\site-packages)\n"
     ]
    }
   ],
   "source": [
    "pip install TDCRPy --upgrade"
   ]
  },
  {
   "cell_type": "code",
   "execution_count": 2,
   "id": "67d250a2-6bb3-4da2-8edb-d859b25932df",
   "metadata": {},
   "outputs": [],
   "source": [
    "import tdcrpy as td\n",
    "import numpy as np\n",
    "from tqdm import tqdm\n",
    "import matplotlib.pyplot as plt"
   ]
  },
  {
   "cell_type": "code",
   "execution_count": 3,
   "id": "185f3975-a9b0-4417-afd6-c187f76e338d",
   "metadata": {},
   "outputs": [
    {
     "name": "stderr",
     "output_type": "stream",
     "text": [
      " 49%|████▉     | 49/100 [08:45<09:07, 10.73s/it]\n"
     ]
    },
    {
     "ename": "KeyboardInterrupt",
     "evalue": "",
     "output_type": "error",
     "traceback": [
      "\u001b[1;31m---------------------------------------------------------------------------\u001b[0m",
      "\u001b[1;31mKeyboardInterrupt\u001b[0m                         Traceback (most recent call last)",
      "Cell \u001b[1;32mIn[3], line 16\u001b[0m\n\u001b[0;32m     14\u001b[0m effD, u_effD, effT, u_effT \u001b[38;5;241m=\u001b[39m [], [], [], []\n\u001b[0;32m     15\u001b[0m \u001b[38;5;28;01mfor\u001b[39;00m l \u001b[38;5;129;01min\u001b[39;00m tqdm(L):\n\u001b[1;32m---> 16\u001b[0m   out \u001b[38;5;241m=\u001b[39m td\u001b[38;5;241m.\u001b[39mTDCRPy\u001b[38;5;241m.\u001b[39mTDCRPy(l, TD, TAB, TBC, TAC, Rad, pmf_1, N, kB, V, mode, mode2, barp\u001b[38;5;241m=\u001b[39m\u001b[38;5;28;01mFalse\u001b[39;00m)\n\u001b[0;32m     17\u001b[0m   effD\u001b[38;5;241m.\u001b[39mappend(out[\u001b[38;5;241m2\u001b[39m])\n\u001b[0;32m     18\u001b[0m   u_effD\u001b[38;5;241m.\u001b[39mappend(out[\u001b[38;5;241m3\u001b[39m])\n",
      "File \u001b[1;32m~\\AppData\\Roaming\\Python\\Python311\\site-packages\\tdcrpy\\TDCRPy.py:262\u001b[0m, in \u001b[0;36mTDCRPy\u001b[1;34m(L, TD, TAB, TBC, TAC, Rad, pmf_1, N, kB, V, mode, mode2, Display, barp, Smodel, uncData)\u001b[0m\n\u001b[0;32m    256\u001b[0m energy_vec\u001b[38;5;241m=\u001b[39m[]\n\u001b[0;32m    257\u001b[0m \u001b[38;5;250m\u001b[39m\u001b[38;5;124;03m'''\u001b[39;00m\n\u001b[0;32m    258\u001b[0m \u001b[38;5;124;03m===============================\u001b[39;00m\n\u001b[0;32m    259\u001b[0m \u001b[38;5;124;03m0. SAMPLING OF THE RADIONUCLIDE\u001b[39;00m\n\u001b[0;32m    260\u001b[0m \u001b[38;5;124;03m===============================\u001b[39;00m\n\u001b[0;32m    261\u001b[0m \u001b[38;5;124;03m'''\u001b[39;00m\n\u001b[1;32m--> 262\u001b[0m index_rad \u001b[38;5;241m=\u001b[39m tl\u001b[38;5;241m.\u001b[39msampling(pmf_1)\n\u001b[0;32m    263\u001b[0m rad_i \u001b[38;5;241m=\u001b[39m Rad[index_rad]\n\u001b[0;32m    264\u001b[0m \u001b[38;5;28;01mif\u001b[39;00m Display: \u001b[38;5;28mprint\u001b[39m(\u001b[38;5;124m\"\u001b[39m\u001b[38;5;130;01m\\n\u001b[39;00m\u001b[38;5;130;01m\\n\u001b[39;00m\u001b[38;5;124m Trial \u001b[39m\u001b[38;5;124m\"\u001b[39m,\u001b[38;5;28mstr\u001b[39m(i\u001b[38;5;241m+\u001b[39m\u001b[38;5;241m1\u001b[39m),\u001b[38;5;124m\"\u001b[39m\u001b[38;5;124m- Sampled radionuclide: \u001b[39m\u001b[38;5;124m\"\u001b[39m, rad_i)\n",
      "File \u001b[1;32m~\\AppData\\Roaming\\Python\\Python311\\site-packages\\tdcrpy\\TDCR_model_lib.py:345\u001b[0m, in \u001b[0;36msampling\u001b[1;34m(p_x)\u001b[0m\n\u001b[0;32m    329\u001b[0m \u001b[38;5;250m\u001b[39m\u001b[38;5;124;03m\"\"\"\u001b[39;00m\n\u001b[0;32m    330\u001b[0m \u001b[38;5;124;03mThis function aims to sample in a pdf or a pmf\u001b[39;00m\n\u001b[0;32m    331\u001b[0m \n\u001b[1;32m   (...)\u001b[0m\n\u001b[0;32m    341\u001b[0m \u001b[38;5;124;03m    index in x pointing the sampled value of the random variable X. in case of pdf use i+1\u001b[39;00m\n\u001b[0;32m    342\u001b[0m \u001b[38;5;124;03m\"\"\"\u001b[39;00m\n\u001b[0;32m    344\u001b[0m cf \u001b[38;5;241m=\u001b[39m np\u001b[38;5;241m.\u001b[39mcumsum(p_x) \u001b[38;5;66;03m# Cummulative Density (or mass) Function (CDF or CMF)\u001b[39;00m\n\u001b[1;32m--> 345\u001b[0m trial \u001b[38;5;241m=\u001b[39m np\u001b[38;5;241m.\u001b[39mrandom\u001b[38;5;241m.\u001b[39mrand(\u001b[38;5;241m1\u001b[39m)[\u001b[38;5;241m0\u001b[39m] \u001b[38;5;66;03m# trial ~ U(0,1)\u001b[39;00m\n\u001b[0;32m    347\u001b[0m \u001b[38;5;28;01mfor\u001b[39;00m i, p \u001b[38;5;129;01min\u001b[39;00m \u001b[38;5;28menumerate\u001b[39m(cf):\n\u001b[0;32m    348\u001b[0m     \u001b[38;5;28;01mif\u001b[39;00m p\u001b[38;5;241m>\u001b[39m trial: \u001b[38;5;28;01mbreak\u001b[39;00m\n",
      "\u001b[1;31mKeyboardInterrupt\u001b[0m: "
     ]
    }
   ],
   "source": [
    "mode = \"eff\"                # ask for efficiency calculation\n",
    "mode2 = \"sym\"               # specify that symmetric PMTs is considered\n",
    "TD = 0.977667386529166      # TDCR parameter\n",
    "TAB = 0.992232838598821     # TDCR parameter (AB)\n",
    "TBC = 0.992343419459002     # TDCR parameter (BC)\n",
    "TAC = 0.99275350064608      # TDCR parameter (AC)\n",
    "Rad=\"Co-60\"                 # radionuclides\n",
    "pmf_1=\"1\"                   # relatives fractions of the radionulides\n",
    "N = 1000                     # number of Monte Carlo trials\n",
    "kB =1.0e-5                  # Birks constant in cm keV-1\n",
    "V = 10                      # volume of scintillator in mL\n",
    "L=np.logspace(-3,2,num=100) # free parameter in keV-1\n",
    "\n",
    "effD, u_effD, effT, u_effT = [], [], [], []\n",
    "for l in tqdm(L):\n",
    "  out = td.TDCRPy.TDCRPy(l, TD, TAB, TBC, TAC, Rad, pmf_1, N, kB, V, mode, mode2, barp=False)\n",
    "  effD.append(out[2])\n",
    "  u_effD.append(out[3])\n",
    "  effT.append(out[4])\n",
    "  u_effT.append(out[5])"
   ]
  },
  {
   "cell_type": "code",
   "execution_count": null,
   "id": "6c11c882-1b03-4d83-8459-0fc6c31d5ab4",
   "metadata": {},
   "outputs": [],
   "source": [
    "effT=np.asarray(effT)\n",
    "effD=np.asarray(effD)\n",
    "u_effT=np.asarray(u_effT)\n",
    "u_effD=np.asarray(u_effD)\n",
    "\n",
    "tdcr=effT/effD\n",
    "u_tdcr=np.sqrt(u_effD**2*effT**2/effD**4+u_effT**2/effD**2)\n",
    "\n",
    "plt.figure(\"efficiency vs free parameter\")\n",
    "plt.clf()\n",
    "plt.errorbar(L,effD,yerr=u_effD,fmt=\"-ok\",label=\"double coincidences\")\n",
    "plt.errorbar(L,effT,yerr=u_effT,fmt=\"-or\",label=\"triple coincidences\")\n",
    "plt.xscale('log')\n",
    "plt.xlabel(r'$L$ /keV$^{-1}$', fontsize=14)\n",
    "plt.ylabel(r'$\\epsilon$', fontsize=14)\n",
    "plt.legend()\n",
    "\n",
    "plt.figure(\"efficiency vs TDCR\")\n",
    "plt.clf()\n",
    "plt.errorbar(tdcr,effD,xerr=u_tdcr,yerr=u_effD,fmt=\"-ok\")\n",
    "plt.xscale('log')\n",
    "plt.xlabel(r'$R_T/R_D$', fontsize=14)\n",
    "plt.ylabel(r'$\\epsilon_D$', fontsize=14)"
   ]
  }
 ],
 "metadata": {
  "kernelspec": {
   "display_name": "Python 3 (ipykernel)",
   "language": "python",
   "name": "python3"
  },
  "language_info": {
   "codemirror_mode": {
    "name": "ipython",
    "version": 3
   },
   "file_extension": ".py",
   "mimetype": "text/x-python",
   "name": "python",
   "nbconvert_exporter": "python",
   "pygments_lexer": "ipython3",
   "version": "3.11.7"
  }
 },
 "nbformat": 4,
 "nbformat_minor": 5
}
